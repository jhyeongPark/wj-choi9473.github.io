{
 "cells": [
  {
   "cell_type": "markdown",
   "metadata": {},
   "source": [
    "# IPython과 주피터 노트북 팁"
   ]
  },
  {
   "cell_type": "markdown",
   "metadata": {},
   "source": [
    "주피터랩은 주피터노트북의 진화버전이라 생각하고 더 유용하기도 하지만 주피터 노트북의 확장프로그램의 유용성 때문에 나는 혼용해서 쓴다.\n",
    "(주피터랩의 확장프로그램을 잘 모르기도 하기 때문ㅠ 시간날때 찾아봐야겠다)\n",
    "\n",
    "목차  \n",
    "[Magic Command](#Magic-Command)  \n",
    "[확장프로그램](#확장프로그램)  \n",
    "[코딩하기 편한 글꼴](#코딩하기-편한-글꼴)  \n",
    "[스타트업파일](#스타트업파일)\n"
   ]
  },
  {
   "cell_type": "markdown",
   "metadata": {},
   "source": [
    "## Magic Command"
   ]
  },
  {
   "cell_type": "markdown",
   "metadata": {},
   "source": [
    "### 자주 사용하는 IPython 매직 커맨드  \n",
    "셀 내부에서 특별하게 동작하는 커맨드  \n",
    "- % : 한줄의 magic command를 동작  \n",
    "- %% : 셀단위의 magic command를 동작  \n",
    "- ! : Shell Command를 수행  \n",
    "- ?,?? : 객체 뒤에 물음표를 붙여 실행하면 객체의 정보 확인  \n",
    "- magic command\n",
    "    - %pwd : 현재 주피터 노트북 파일의 경로\n",
    "    - !ls : 현재 디렉토리의 파일 리스트\n",
    "    - %whos : 현재 선언된 변수를 출력\n",
    "    - %reset : 현재 선언된 변수를 모두 삭제\n",
    "    - %run script.py : 파이썬 스크립트 실행\n",
    "    - %time, timeit: 코드의 수행시간 확인\n"
   ]
  },
  {
   "cell_type": "markdown",
   "metadata": {},
   "source": [
    "---"
   ]
  },
  {
   "cell_type": "markdown",
   "metadata": {},
   "source": [
    "# 확장프로그램\n",
    "### nbextension 설치\n",
    "\n",
    "https://github.com/ipython-contrib/jupyter_contrib_nbextensions\n",
    "\n",
    "- pip install jupyter_contrib_nbextensions      \n",
    "- jupyter contrib nbextension install --user"
   ]
  },
  {
   "cell_type": "markdown",
   "metadata": {},
   "source": [
    "### 꼭 추천하는 두가지!"
   ]
  },
  {
   "cell_type": "markdown",
   "metadata": {},
   "source": [
    "### 1.컨벤션에 맞게 자동으로 고쳐주는 autopep8\n",
    "\n",
    "- pip install autopep8\n",
    "\n",
    "로 설치후 nbextension에서 체크!\n",
    "\n",
    "<img src = \"ipython.png\" width=\"600px\">\n",
    "\n",
    "- 단일 셀을 고칠 때 :  ctrl + l \n",
    "- 모든 셀을 고칠 때 :  ctrl + shift + l"
   ]
  },
  {
   "cell_type": "markdown",
   "metadata": {},
   "source": [
    "### 2.파이참 처럼 코드를 자동으로 complete 해주는 TabNine\n",
    "https://github.com/wenmin-wu/jupyter-tabnine\n",
    "\n",
    "- pip3 install jupyter-tabnine\n",
    "- jupyter nbextension install --py jupyter_tabnine\n",
    "- jupyter nbextension enable --py jupyter_tabnine\n",
    "- jupyter serverextension enable --py jupyter_tabnine\n",
    "\n",
    "<img src = \"tabnine.png\" width=\"600px\">\n"
   ]
  },
  {
   "cell_type": "markdown",
   "metadata": {},
   "source": [
    "---"
   ]
  },
  {
   "cell_type": "markdown",
   "metadata": {},
   "source": [
    "# 코딩하기 편한 글꼴\n",
    "D2Coding 글꼴을 다운로드 하자. __0oO 등 구분하기 쉽게 해주는 글꼴이다."
   ]
  },
  {
   "cell_type": "markdown",
   "metadata": {},
   "source": [
    "- D2Coding 글꼴 다운로드\n",
    "    - https://github.com/naver/d2codingfont/releases/tag/VER1.3.2\n",
    "    - D2CodingAll/D2Coding-Ver1.3.2-20180524-all.ttc\n",
    "    - D2Coding.ttc 로 파일명 변경\n",
    "- custom 디렉토리 생성\n",
    "    - `mkdir -p ~/.jupyter/custom`\n",
    "- `~/.jupyter/custom` 디렉토리로 D2Coding.ttc 이동\n",
    "    - cp ~/Downloads/D2Coding-Ver1.3.2-20180524/D2CodingAll/D2Coding.ttc ~/.jupyter/custom/\n",
    "- `custom.css` 파일 작성\n",
    "    - vi custom.css\n",
    "    \n",
    "```\n",
    "@font-face {\n",
    "  font-family: d2coding;\n",
    "  src: url(./D2Coding.ttc);\n",
    "}\n",
    "body, code, kbd, pre, samp{\n",
    "  font-family: d2coding !important;\n",
    "}\n",
    "```"
   ]
  },
  {
   "cell_type": "markdown",
   "metadata": {},
   "source": [
    "---"
   ]
  },
  {
   "cell_type": "markdown",
   "metadata": {},
   "source": [
    "# 스타트업파일"
   ]
  },
  {
   "cell_type": "markdown",
   "metadata": {},
   "source": [
    "주피터노트북을 실행시 미리 실행 되는 코드를 설정하는것이다.  \n",
    "자주쓰는 라이브러리를 호출하기 귀찮을때 좋다:) 하지만 다른사람들에게 코드를 공유할땐 다시 써주는것이 좋다.  \n",
    "따로 정해진 이름이 있는건 아니고 startup폴더 아래에 .py확장자를 가진 모든 파이썬 스크팁트가 스타트업 파일이며 실행된다."
   ]
  },
  {
   "cell_type": "markdown",
   "metadata": {},
   "source": [
    "설정 방법\n",
    "\n",
    "아이파이썬, 주피터 노트북이 설치되면 사용자 홈 디렉터리 아래에 .ipython 이라는 디렉터리에서 하는것이다. 커맨드가 아니라 GUI로도(파일 찾아서) 가능하다.\n",
    "\n",
    "- 프로필 파일 생성\n",
    "    - `$ ipython profile create`\n",
    "- startup 파일 수정\n",
    "    - `$ cd ~/.ipython/profile_default/startup `\n",
    "    - `$ vi 00-first.py`"
   ]
  },
  {
   "cell_type": "markdown",
   "metadata": {},
   "source": [
    "```python\n",
    "# 자주쓰는 라이브러리를 자유롭게 추가해주면 된다\n",
    "from mpl_toolkits.mplot3d import Axes3D\n",
    "\n",
    "import scipy as sp\n",
    "import statsmodels.api as sm\n",
    "import sklearn as sk\n",
    "\n",
    "# basic\n",
    "import time\n",
    "import random\n",
    "\n",
    "# data analytics\n",
    "import numpy as np\n",
    "import pandas as pd\n",
    "import pandas_profiling as pp\n",
    "\n",
    "# web crawling\n",
    "import requests\n",
    "from bs4 import BeautifulSoup\n",
    "\n",
    "# visulazation\n",
    "import matplotlib as mpl\n",
    "import matplotlib.pyplot as plt\n",
    "import seaborn as sns\n",
    "\n",
    "# 한글폰트 안깨지기 \n",
    "from matplotlib import rc\n",
    "rc('font', family='AppleGothic')\n",
    "# 한글폰트땜에 - 안깨지기\n",
    "mpl.rcParams['axes.unicode_minus'] = False\n",
    "```"
   ]
  },
  {
   "cell_type": "markdown",
   "metadata": {},
   "source": [
    "### inline backend config\n",
    "    - 매직 커멘드 설정 없이 바로 그래프를 그릴수 있도록 설정\n",
    "    - `$ vi ~/.ipython/profile_default/ipython_kernel_config.py`\n",
    "\n",
    "```\n",
    "c.IPKernelApp.matplotlib = 'inline'\n",
    "c.InlineBackend.figure_format = 'retina'\n",
    "```"
   ]
  },
  {
   "cell_type": "markdown",
   "metadata": {},
   "source": [
    "ipython 실행시 \"UsageError: Line magic function %autoreload not found.\" 에러가 발생하는 경우  \n",
    "ipythonconfig.py 파일에 %loadext autoreload 를 추가\n",
    "```\n",
    "c = get_config()\n",
    "\n",
    "c.InteractiveShellApp.execlines = [ \"%matplotlib inline\", \"%loadext autoreload\", \"%autoreload 2\", \"mpl.rc('font', family='nanumgothic')\", \"mpl.rc('axes', unicode_minus=False)\", \"mpl.rc('figure', figsize=(8, 5))\", \"mpl.rc('figure', dpi=300)\", ]\n",
    "\n",
    "%load_ext autoreload\n",
    "```"
   ]
  }
 ],
 "metadata": {
  "hide_input": false,
  "kernelspec": {
   "display_name": "Python 3",
   "language": "python",
   "name": "python3"
  },
  "language_info": {
   "codemirror_mode": {
    "name": "ipython",
    "version": 3
   },
   "file_extension": ".py",
   "mimetype": "text/x-python",
   "name": "python",
   "nbconvert_exporter": "python",
   "pygments_lexer": "ipython3",
   "version": "3.7.4"
  },
  "toc": {
   "base_numbering": 1,
   "nav_menu": {},
   "number_sections": false,
   "sideBar": true,
   "skip_h1_title": false,
   "title_cell": "Table of Contents",
   "title_sidebar": "Contents",
   "toc_cell": false,
   "toc_position": {},
   "toc_section_display": true,
   "toc_window_display": false
  },
  "varInspector": {
   "cols": {
    "lenName": 16,
    "lenType": 16,
    "lenVar": 40
   },
   "kernels_config": {
    "python": {
     "delete_cmd_postfix": "",
     "delete_cmd_prefix": "del ",
     "library": "var_list.py",
     "varRefreshCmd": "print(var_dic_list())"
    },
    "r": {
     "delete_cmd_postfix": ") ",
     "delete_cmd_prefix": "rm(",
     "library": "var_list.r",
     "varRefreshCmd": "cat(var_dic_list()) "
    }
   },
   "types_to_exclude": [
    "module",
    "function",
    "builtin_function_or_method",
    "instance",
    "_Feature"
   ],
   "window_display": false
  }
 },
 "nbformat": 4,
 "nbformat_minor": 2
}
